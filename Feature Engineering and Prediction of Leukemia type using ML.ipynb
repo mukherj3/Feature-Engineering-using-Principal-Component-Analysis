{
 "cells": [
  {
   "cell_type": "code",
   "execution_count": null,
   "metadata": {},
   "outputs": [],
   "source": [
    "#### Importing the essential libraries ######"
   ]
  },
  {
   "cell_type": "code",
   "execution_count": 1,
   "metadata": {},
   "outputs": [],
   "source": [
    "import numpy as np   \n",
    "import pandas as pd\n",
    "import matplotlib.pyplot as plt\n",
    "import seaborn as sns"
   ]
  },
  {
   "cell_type": "markdown",
   "metadata": {},
   "source": [
    "# Loading the data set"
   ]
  },
  {
   "cell_type": "code",
   "execution_count": 2,
   "metadata": {},
   "outputs": [],
   "source": [
    "Leukemia_data = pd.read_csv('C:\\\\Users\\\\SAHANA\\\\Documents\\\\Data Analysis Projects\\\\Leukemia_GSE9476.csv')"
   ]
  },
  {
   "cell_type": "code",
   "execution_count": null,
   "metadata": {},
   "outputs": [],
   "source": [
    "## reading the head of the data ##"
   ]
  },
  {
   "cell_type": "code",
   "execution_count": 3,
   "metadata": {},
   "outputs": [
    {
     "data": {
      "text/html": [
       "<div>\n",
       "<style scoped>\n",
       "    .dataframe tbody tr th:only-of-type {\n",
       "        vertical-align: middle;\n",
       "    }\n",
       "\n",
       "    .dataframe tbody tr th {\n",
       "        vertical-align: top;\n",
       "    }\n",
       "\n",
       "    .dataframe thead th {\n",
       "        text-align: right;\n",
       "    }\n",
       "</style>\n",
       "<table border=\"1\" class=\"dataframe\">\n",
       "  <thead>\n",
       "    <tr style=\"text-align: right;\">\n",
       "      <th></th>\n",
       "      <th>samples</th>\n",
       "      <th>type</th>\n",
       "      <th>1007_s_at</th>\n",
       "      <th>1053_at</th>\n",
       "      <th>117_at</th>\n",
       "      <th>121_at</th>\n",
       "      <th>1255_g_at</th>\n",
       "      <th>1294_at</th>\n",
       "      <th>1316_at</th>\n",
       "      <th>1320_at</th>\n",
       "      <th>...</th>\n",
       "      <th>AFFX-r2-Hs28SrRNA-5_at</th>\n",
       "      <th>AFFX-r2-Hs28SrRNA-M_at</th>\n",
       "      <th>AFFX-r2-P1-cre-3_at</th>\n",
       "      <th>AFFX-r2-P1-cre-5_at</th>\n",
       "      <th>AFFX-ThrX-3_at</th>\n",
       "      <th>AFFX-ThrX-5_at</th>\n",
       "      <th>AFFX-ThrX-M_at</th>\n",
       "      <th>AFFX-TrpnX-3_at</th>\n",
       "      <th>AFFX-TrpnX-5_at</th>\n",
       "      <th>AFFX-TrpnX-M_at</th>\n",
       "    </tr>\n",
       "  </thead>\n",
       "  <tbody>\n",
       "    <tr>\n",
       "      <th>0</th>\n",
       "      <td>1</td>\n",
       "      <td>Bone_Marrow_CD34</td>\n",
       "      <td>7.745245</td>\n",
       "      <td>7.811210</td>\n",
       "      <td>6.477916</td>\n",
       "      <td>8.841506</td>\n",
       "      <td>4.546941</td>\n",
       "      <td>7.957714</td>\n",
       "      <td>5.344999</td>\n",
       "      <td>4.673364</td>\n",
       "      <td>...</td>\n",
       "      <td>5.058849</td>\n",
       "      <td>6.810004</td>\n",
       "      <td>12.800060</td>\n",
       "      <td>12.718612</td>\n",
       "      <td>5.391512</td>\n",
       "      <td>4.666166</td>\n",
       "      <td>3.974759</td>\n",
       "      <td>3.656693</td>\n",
       "      <td>4.160622</td>\n",
       "      <td>4.139249</td>\n",
       "    </tr>\n",
       "    <tr>\n",
       "      <th>1</th>\n",
       "      <td>12</td>\n",
       "      <td>Bone_Marrow_CD34</td>\n",
       "      <td>8.087252</td>\n",
       "      <td>7.240673</td>\n",
       "      <td>8.584648</td>\n",
       "      <td>8.983571</td>\n",
       "      <td>4.548934</td>\n",
       "      <td>8.011652</td>\n",
       "      <td>5.579647</td>\n",
       "      <td>4.828184</td>\n",
       "      <td>...</td>\n",
       "      <td>4.436153</td>\n",
       "      <td>6.751471</td>\n",
       "      <td>12.472706</td>\n",
       "      <td>12.333593</td>\n",
       "      <td>5.379738</td>\n",
       "      <td>4.656786</td>\n",
       "      <td>4.188348</td>\n",
       "      <td>3.792535</td>\n",
       "      <td>4.204414</td>\n",
       "      <td>4.122700</td>\n",
       "    </tr>\n",
       "    <tr>\n",
       "      <th>2</th>\n",
       "      <td>13</td>\n",
       "      <td>Bone_Marrow_CD34</td>\n",
       "      <td>7.792056</td>\n",
       "      <td>7.549368</td>\n",
       "      <td>11.053504</td>\n",
       "      <td>8.909703</td>\n",
       "      <td>4.549328</td>\n",
       "      <td>8.237099</td>\n",
       "      <td>5.406489</td>\n",
       "      <td>4.615572</td>\n",
       "      <td>...</td>\n",
       "      <td>4.392061</td>\n",
       "      <td>6.086295</td>\n",
       "      <td>12.637384</td>\n",
       "      <td>12.499038</td>\n",
       "      <td>5.316604</td>\n",
       "      <td>4.600566</td>\n",
       "      <td>3.845561</td>\n",
       "      <td>3.635715</td>\n",
       "      <td>4.174199</td>\n",
       "      <td>4.067152</td>\n",
       "    </tr>\n",
       "    <tr>\n",
       "      <th>3</th>\n",
       "      <td>14</td>\n",
       "      <td>Bone_Marrow_CD34</td>\n",
       "      <td>7.767265</td>\n",
       "      <td>7.094460</td>\n",
       "      <td>11.816433</td>\n",
       "      <td>8.994654</td>\n",
       "      <td>4.697018</td>\n",
       "      <td>8.283412</td>\n",
       "      <td>5.582195</td>\n",
       "      <td>4.903684</td>\n",
       "      <td>...</td>\n",
       "      <td>4.633334</td>\n",
       "      <td>6.375991</td>\n",
       "      <td>12.903630</td>\n",
       "      <td>12.871454</td>\n",
       "      <td>5.179951</td>\n",
       "      <td>4.641952</td>\n",
       "      <td>3.991634</td>\n",
       "      <td>3.704587</td>\n",
       "      <td>4.149938</td>\n",
       "      <td>3.910150</td>\n",
       "    </tr>\n",
       "    <tr>\n",
       "      <th>4</th>\n",
       "      <td>15</td>\n",
       "      <td>Bone_Marrow_CD34</td>\n",
       "      <td>8.010117</td>\n",
       "      <td>7.405281</td>\n",
       "      <td>6.656049</td>\n",
       "      <td>9.050682</td>\n",
       "      <td>4.514986</td>\n",
       "      <td>8.377046</td>\n",
       "      <td>5.493713</td>\n",
       "      <td>4.860754</td>\n",
       "      <td>...</td>\n",
       "      <td>5.305192</td>\n",
       "      <td>6.700453</td>\n",
       "      <td>12.949352</td>\n",
       "      <td>12.782515</td>\n",
       "      <td>5.341689</td>\n",
       "      <td>4.560315</td>\n",
       "      <td>3.887020</td>\n",
       "      <td>3.629853</td>\n",
       "      <td>4.127513</td>\n",
       "      <td>4.004316</td>\n",
       "    </tr>\n",
       "  </tbody>\n",
       "</table>\n",
       "<p>5 rows × 22285 columns</p>\n",
       "</div>"
      ],
      "text/plain": [
       "   samples              type  1007_s_at   1053_at     117_at    121_at  \\\n",
       "0        1  Bone_Marrow_CD34   7.745245  7.811210   6.477916  8.841506   \n",
       "1       12  Bone_Marrow_CD34   8.087252  7.240673   8.584648  8.983571   \n",
       "2       13  Bone_Marrow_CD34   7.792056  7.549368  11.053504  8.909703   \n",
       "3       14  Bone_Marrow_CD34   7.767265  7.094460  11.816433  8.994654   \n",
       "4       15  Bone_Marrow_CD34   8.010117  7.405281   6.656049  9.050682   \n",
       "\n",
       "   1255_g_at   1294_at   1316_at   1320_at  ...  AFFX-r2-Hs28SrRNA-5_at  \\\n",
       "0   4.546941  7.957714  5.344999  4.673364  ...                5.058849   \n",
       "1   4.548934  8.011652  5.579647  4.828184  ...                4.436153   \n",
       "2   4.549328  8.237099  5.406489  4.615572  ...                4.392061   \n",
       "3   4.697018  8.283412  5.582195  4.903684  ...                4.633334   \n",
       "4   4.514986  8.377046  5.493713  4.860754  ...                5.305192   \n",
       "\n",
       "   AFFX-r2-Hs28SrRNA-M_at  AFFX-r2-P1-cre-3_at  AFFX-r2-P1-cre-5_at  \\\n",
       "0                6.810004            12.800060            12.718612   \n",
       "1                6.751471            12.472706            12.333593   \n",
       "2                6.086295            12.637384            12.499038   \n",
       "3                6.375991            12.903630            12.871454   \n",
       "4                6.700453            12.949352            12.782515   \n",
       "\n",
       "   AFFX-ThrX-3_at  AFFX-ThrX-5_at  AFFX-ThrX-M_at  AFFX-TrpnX-3_at  \\\n",
       "0        5.391512        4.666166        3.974759         3.656693   \n",
       "1        5.379738        4.656786        4.188348         3.792535   \n",
       "2        5.316604        4.600566        3.845561         3.635715   \n",
       "3        5.179951        4.641952        3.991634         3.704587   \n",
       "4        5.341689        4.560315        3.887020         3.629853   \n",
       "\n",
       "   AFFX-TrpnX-5_at  AFFX-TrpnX-M_at  \n",
       "0         4.160622         4.139249  \n",
       "1         4.204414         4.122700  \n",
       "2         4.174199         4.067152  \n",
       "3         4.149938         3.910150  \n",
       "4         4.127513         4.004316  \n",
       "\n",
       "[5 rows x 22285 columns]"
      ]
     },
     "execution_count": 3,
     "metadata": {},
     "output_type": "execute_result"
    }
   ],
   "source": [
    "data = Leukemia_data.head()\n",
    "data"
   ]
  },
  {
   "cell_type": "code",
   "execution_count": null,
   "metadata": {},
   "outputs": [],
   "source": [
    "## checking for missing values ##"
   ]
  },
  {
   "cell_type": "code",
   "execution_count": 4,
   "metadata": {
    "scrolled": true
   },
   "outputs": [
    {
     "data": {
      "text/plain": [
       "samples            0\n",
       "type               0\n",
       "1007_s_at          0\n",
       "1053_at            0\n",
       "117_at             0\n",
       "                  ..\n",
       "AFFX-ThrX-5_at     0\n",
       "AFFX-ThrX-M_at     0\n",
       "AFFX-TrpnX-3_at    0\n",
       "AFFX-TrpnX-5_at    0\n",
       "AFFX-TrpnX-M_at    0\n",
       "Length: 22285, dtype: int64"
      ]
     },
     "execution_count": 4,
     "metadata": {},
     "output_type": "execute_result"
    }
   ],
   "source": [
    "Leukemia_data.isna().sum()"
   ]
  },
  {
   "cell_type": "markdown",
   "metadata": {},
   "source": [
    "# Data Pre-processing"
   ]
  },
  {
   "cell_type": "code",
   "execution_count": null,
   "metadata": {},
   "outputs": [],
   "source": [
    "## getting rid of unnecessary columns ##"
   ]
  },
  {
   "cell_type": "code",
   "execution_count": 3,
   "metadata": {},
   "outputs": [],
   "source": [
    "Leukemia_data = Leukemia_data.drop(['samples'], axis = 1)"
   ]
  },
  {
   "cell_type": "code",
   "execution_count": 4,
   "metadata": {},
   "outputs": [],
   "source": [
    "## Standardizing the features, except the target variable 'Type' ##"
   ]
  },
  {
   "cell_type": "code",
   "execution_count": 4,
   "metadata": {},
   "outputs": [],
   "source": [
    "from sklearn.preprocessing import StandardScaler\n",
    "scaler = StandardScaler().fit(Leukemia_data.iloc[:, 1:])\n",
    "Leukemia_data.iloc[:, 1:] = scaler.transform(Leukemia_data.iloc[:, 1:])"
   ]
  },
  {
   "cell_type": "code",
   "execution_count": 6,
   "metadata": {},
   "outputs": [],
   "source": [
    "## separating the target variable ##"
   ]
  },
  {
   "cell_type": "code",
   "execution_count": 5,
   "metadata": {},
   "outputs": [],
   "source": [
    "y_df = Leukemia_data['type']  \n",
    "x_df = Leukemia_data.drop(['type'], axis = 1)"
   ]
  },
  {
   "cell_type": "markdown",
   "metadata": {},
   "source": [
    "# Principal Component Analysis"
   ]
  },
  {
   "cell_type": "code",
   "execution_count": 120,
   "metadata": {},
   "outputs": [],
   "source": [
    "## Dimension Reduction using Principal Component Analysis ##\n",
    "# Redusing the number of features from ~22,000 to 50 principal components, which are formed by linear combination of all 22,000 features."
   ]
  },
  {
   "cell_type": "code",
   "execution_count": 6,
   "metadata": {},
   "outputs": [],
   "source": [
    "from sklearn.decomposition import PCA"
   ]
  },
  {
   "cell_type": "code",
   "execution_count": 7,
   "metadata": {},
   "outputs": [],
   "source": [
    "pca = PCA (n_components = 50)\n",
    "principal_components = pca.fit_transform(x_df)"
   ]
  },
  {
   "cell_type": "code",
   "execution_count": 8,
   "metadata": {},
   "outputs": [],
   "source": [
    "x_df = pd.DataFrame(data = principal_components)  # forming new x_df with 50 principal components\n",
    "finaldataframe = pd.concat([y_df, x_df], axis = 1)  # final data frame formed by 50 principal components and target variable"
   ]
  },
  {
   "cell_type": "code",
   "execution_count": 11,
   "metadata": {},
   "outputs": [],
   "source": [
    "## total variance explained by the 50 Principal Components ##"
   ]
  },
  {
   "cell_type": "code",
   "execution_count": 17,
   "metadata": {},
   "outputs": [
    {
     "data": {
      "text/plain": [
       "array([4408.04140712, 3337.56208476, 1557.10256334, 1409.48167276,\n",
       "       1111.40918024,  774.1911809 ,  661.42952346,  591.67022815,\n",
       "        542.70217127,  480.79016282,  442.47512188,  406.19865776,\n",
       "        319.05124829,  284.31383669,  280.34581964,  271.42246212,\n",
       "        257.10270905,  234.44101154,  228.39374495,  222.9733227 ,\n",
       "        212.80620203,  207.82810764,  198.04511525,  183.13483083,\n",
       "        178.81518234,  170.17251598,  167.50371608,  158.9576005 ,\n",
       "        154.72199218,  144.37177182,  138.92740287,  136.64650597,\n",
       "        132.9865732 ,  129.804119  ,  126.86020296,  124.39690784,\n",
       "        119.83167304,  116.38121597,  110.34864075,  107.4274426 ,\n",
       "        106.18025311,  105.29247623,  102.85392452,   99.87107051,\n",
       "         97.21645979,   95.46040237,   89.51615472,   85.82225297,\n",
       "         82.34340766,   79.82376895])"
      ]
     },
     "execution_count": 17,
     "metadata": {},
     "output_type": "execute_result"
    }
   ],
   "source": [
    "pca.explained_variance_"
   ]
  },
  {
   "cell_type": "code",
   "execution_count": 12,
   "metadata": {
    "scrolled": true
   },
   "outputs": [
    {
     "data": {
      "text/plain": [
       "0.9623950278417515"
      ]
     },
     "execution_count": 12,
     "metadata": {},
     "output_type": "execute_result"
    }
   ],
   "source": [
    "pca.explained_variance_ratio_.sum()  # 96% of total variance is explained by the 50 principal components"
   ]
  },
  {
   "cell_type": "code",
   "execution_count": null,
   "metadata": {},
   "outputs": [],
   "source": [
    "##### Comprehending the important genes contributing maximum to the principal components #####"
   ]
  },
  {
   "cell_type": "code",
   "execution_count": 27,
   "metadata": {},
   "outputs": [
    {
     "data": {
      "text/html": [
       "<div>\n",
       "<style scoped>\n",
       "    .dataframe tbody tr th:only-of-type {\n",
       "        vertical-align: middle;\n",
       "    }\n",
       "\n",
       "    .dataframe tbody tr th {\n",
       "        vertical-align: top;\n",
       "    }\n",
       "\n",
       "    .dataframe thead th {\n",
       "        text-align: right;\n",
       "    }\n",
       "</style>\n",
       "<table border=\"1\" class=\"dataframe\">\n",
       "  <thead>\n",
       "    <tr style=\"text-align: right;\">\n",
       "      <th></th>\n",
       "      <th>0</th>\n",
       "      <th>1</th>\n",
       "    </tr>\n",
       "  </thead>\n",
       "  <tbody>\n",
       "    <tr>\n",
       "      <th>0</th>\n",
       "      <td>PC0</td>\n",
       "      <td>221570_s_at</td>\n",
       "    </tr>\n",
       "    <tr>\n",
       "      <th>1</th>\n",
       "      <td>PC1</td>\n",
       "      <td>201877_s_at</td>\n",
       "    </tr>\n",
       "    <tr>\n",
       "      <th>2</th>\n",
       "      <td>PC2</td>\n",
       "      <td>37793_r_at</td>\n",
       "    </tr>\n",
       "    <tr>\n",
       "      <th>3</th>\n",
       "      <td>PC3</td>\n",
       "      <td>219627_at</td>\n",
       "    </tr>\n",
       "    <tr>\n",
       "      <th>4</th>\n",
       "      <td>PC4</td>\n",
       "      <td>218050_at</td>\n",
       "    </tr>\n",
       "    <tr>\n",
       "      <th>5</th>\n",
       "      <td>PC5</td>\n",
       "      <td>212198_s_at</td>\n",
       "    </tr>\n",
       "    <tr>\n",
       "      <th>6</th>\n",
       "      <td>PC6</td>\n",
       "      <td>201480_s_at</td>\n",
       "    </tr>\n",
       "    <tr>\n",
       "      <th>7</th>\n",
       "      <td>PC7</td>\n",
       "      <td>202147_s_at</td>\n",
       "    </tr>\n",
       "    <tr>\n",
       "      <th>8</th>\n",
       "      <td>PC8</td>\n",
       "      <td>217085_at</td>\n",
       "    </tr>\n",
       "    <tr>\n",
       "      <th>9</th>\n",
       "      <td>PC9</td>\n",
       "      <td>87100_at</td>\n",
       "    </tr>\n",
       "    <tr>\n",
       "      <th>10</th>\n",
       "      <td>PC10</td>\n",
       "      <td>206313_at</td>\n",
       "    </tr>\n",
       "    <tr>\n",
       "      <th>11</th>\n",
       "      <td>PC11</td>\n",
       "      <td>220355_s_at</td>\n",
       "    </tr>\n",
       "    <tr>\n",
       "      <th>12</th>\n",
       "      <td>PC12</td>\n",
       "      <td>219116_s_at</td>\n",
       "    </tr>\n",
       "    <tr>\n",
       "      <th>13</th>\n",
       "      <td>PC13</td>\n",
       "      <td>210135_s_at</td>\n",
       "    </tr>\n",
       "    <tr>\n",
       "      <th>14</th>\n",
       "      <td>PC14</td>\n",
       "      <td>204224_s_at</td>\n",
       "    </tr>\n",
       "    <tr>\n",
       "      <th>15</th>\n",
       "      <td>PC15</td>\n",
       "      <td>204719_at</td>\n",
       "    </tr>\n",
       "    <tr>\n",
       "      <th>16</th>\n",
       "      <td>PC16</td>\n",
       "      <td>208999_at</td>\n",
       "    </tr>\n",
       "    <tr>\n",
       "      <th>17</th>\n",
       "      <td>PC17</td>\n",
       "      <td>204262_s_at</td>\n",
       "    </tr>\n",
       "    <tr>\n",
       "      <th>18</th>\n",
       "      <td>PC18</td>\n",
       "      <td>210755_at</td>\n",
       "    </tr>\n",
       "    <tr>\n",
       "      <th>19</th>\n",
       "      <td>PC19</td>\n",
       "      <td>212707_s_at</td>\n",
       "    </tr>\n",
       "    <tr>\n",
       "      <th>20</th>\n",
       "      <td>PC20</td>\n",
       "      <td>203178_at</td>\n",
       "    </tr>\n",
       "    <tr>\n",
       "      <th>21</th>\n",
       "      <td>PC21</td>\n",
       "      <td>214052_x_at</td>\n",
       "    </tr>\n",
       "    <tr>\n",
       "      <th>22</th>\n",
       "      <td>PC22</td>\n",
       "      <td>205110_s_at</td>\n",
       "    </tr>\n",
       "    <tr>\n",
       "      <th>23</th>\n",
       "      <td>PC23</td>\n",
       "      <td>204058_at</td>\n",
       "    </tr>\n",
       "    <tr>\n",
       "      <th>24</th>\n",
       "      <td>PC24</td>\n",
       "      <td>207115_x_at</td>\n",
       "    </tr>\n",
       "    <tr>\n",
       "      <th>25</th>\n",
       "      <td>PC25</td>\n",
       "      <td>221911_at</td>\n",
       "    </tr>\n",
       "    <tr>\n",
       "      <th>26</th>\n",
       "      <td>PC26</td>\n",
       "      <td>219738_s_at</td>\n",
       "    </tr>\n",
       "    <tr>\n",
       "      <th>27</th>\n",
       "      <td>PC27</td>\n",
       "      <td>213381_at</td>\n",
       "    </tr>\n",
       "    <tr>\n",
       "      <th>28</th>\n",
       "      <td>PC28</td>\n",
       "      <td>201667_at</td>\n",
       "    </tr>\n",
       "    <tr>\n",
       "      <th>29</th>\n",
       "      <td>PC29</td>\n",
       "      <td>205215_at</td>\n",
       "    </tr>\n",
       "    <tr>\n",
       "      <th>30</th>\n",
       "      <td>PC30</td>\n",
       "      <td>204201_s_at</td>\n",
       "    </tr>\n",
       "    <tr>\n",
       "      <th>31</th>\n",
       "      <td>PC31</td>\n",
       "      <td>219738_s_at</td>\n",
       "    </tr>\n",
       "    <tr>\n",
       "      <th>32</th>\n",
       "      <td>PC32</td>\n",
       "      <td>210116_at</td>\n",
       "    </tr>\n",
       "    <tr>\n",
       "      <th>33</th>\n",
       "      <td>PC33</td>\n",
       "      <td>216135_at</td>\n",
       "    </tr>\n",
       "    <tr>\n",
       "      <th>34</th>\n",
       "      <td>PC34</td>\n",
       "      <td>211024_s_at</td>\n",
       "    </tr>\n",
       "    <tr>\n",
       "      <th>35</th>\n",
       "      <td>PC35</td>\n",
       "      <td>210189_at</td>\n",
       "    </tr>\n",
       "    <tr>\n",
       "      <th>36</th>\n",
       "      <td>PC36</td>\n",
       "      <td>210867_at</td>\n",
       "    </tr>\n",
       "    <tr>\n",
       "      <th>37</th>\n",
       "      <td>PC37</td>\n",
       "      <td>203881_s_at</td>\n",
       "    </tr>\n",
       "    <tr>\n",
       "      <th>38</th>\n",
       "      <td>PC38</td>\n",
       "      <td>205234_at</td>\n",
       "    </tr>\n",
       "    <tr>\n",
       "      <th>39</th>\n",
       "      <td>PC39</td>\n",
       "      <td>210380_s_at</td>\n",
       "    </tr>\n",
       "    <tr>\n",
       "      <th>40</th>\n",
       "      <td>PC40</td>\n",
       "      <td>207177_at</td>\n",
       "    </tr>\n",
       "    <tr>\n",
       "      <th>41</th>\n",
       "      <td>PC41</td>\n",
       "      <td>201141_at</td>\n",
       "    </tr>\n",
       "    <tr>\n",
       "      <th>42</th>\n",
       "      <td>PC42</td>\n",
       "      <td>219989_s_at</td>\n",
       "    </tr>\n",
       "    <tr>\n",
       "      <th>43</th>\n",
       "      <td>PC43</td>\n",
       "      <td>210432_s_at</td>\n",
       "    </tr>\n",
       "    <tr>\n",
       "      <th>44</th>\n",
       "      <td>PC44</td>\n",
       "      <td>211923_s_at</td>\n",
       "    </tr>\n",
       "    <tr>\n",
       "      <th>45</th>\n",
       "      <td>PC45</td>\n",
       "      <td>217546_at</td>\n",
       "    </tr>\n",
       "    <tr>\n",
       "      <th>46</th>\n",
       "      <td>PC46</td>\n",
       "      <td>210127_at</td>\n",
       "    </tr>\n",
       "    <tr>\n",
       "      <th>47</th>\n",
       "      <td>PC47</td>\n",
       "      <td>210163_at</td>\n",
       "    </tr>\n",
       "    <tr>\n",
       "      <th>48</th>\n",
       "      <td>PC48</td>\n",
       "      <td>208276_at</td>\n",
       "    </tr>\n",
       "    <tr>\n",
       "      <th>49</th>\n",
       "      <td>PC49</td>\n",
       "      <td>207826_s_at</td>\n",
       "    </tr>\n",
       "  </tbody>\n",
       "</table>\n",
       "</div>"
      ],
      "text/plain": [
       "       0            1\n",
       "0    PC0  221570_s_at\n",
       "1    PC1  201877_s_at\n",
       "2    PC2   37793_r_at\n",
       "3    PC3    219627_at\n",
       "4    PC4    218050_at\n",
       "5    PC5  212198_s_at\n",
       "6    PC6  201480_s_at\n",
       "7    PC7  202147_s_at\n",
       "8    PC8    217085_at\n",
       "9    PC9     87100_at\n",
       "10  PC10    206313_at\n",
       "11  PC11  220355_s_at\n",
       "12  PC12  219116_s_at\n",
       "13  PC13  210135_s_at\n",
       "14  PC14  204224_s_at\n",
       "15  PC15    204719_at\n",
       "16  PC16    208999_at\n",
       "17  PC17  204262_s_at\n",
       "18  PC18    210755_at\n",
       "19  PC19  212707_s_at\n",
       "20  PC20    203178_at\n",
       "21  PC21  214052_x_at\n",
       "22  PC22  205110_s_at\n",
       "23  PC23    204058_at\n",
       "24  PC24  207115_x_at\n",
       "25  PC25    221911_at\n",
       "26  PC26  219738_s_at\n",
       "27  PC27    213381_at\n",
       "28  PC28    201667_at\n",
       "29  PC29    205215_at\n",
       "30  PC30  204201_s_at\n",
       "31  PC31  219738_s_at\n",
       "32  PC32    210116_at\n",
       "33  PC33    216135_at\n",
       "34  PC34  211024_s_at\n",
       "35  PC35    210189_at\n",
       "36  PC36    210867_at\n",
       "37  PC37  203881_s_at\n",
       "38  PC38    205234_at\n",
       "39  PC39  210380_s_at\n",
       "40  PC40    207177_at\n",
       "41  PC41    201141_at\n",
       "42  PC42  219989_s_at\n",
       "43  PC43  210432_s_at\n",
       "44  PC44  211923_s_at\n",
       "45  PC45    217546_at\n",
       "46  PC46    210127_at\n",
       "47  PC47    210163_at\n",
       "48  PC48    208276_at\n",
       "49  PC49  207826_s_at"
      ]
     },
     "execution_count": 27,
     "metadata": {},
     "output_type": "execute_result"
    }
   ],
   "source": [
    "n_pcs= pca.components_.shape[0]\n",
    "most_important = [np.abs(pca.components_[i]).argmax() for i in range(n_pcs)]\n",
    "features = Leukemia_data.drop(['type'], axis = 1)\n",
    "initial_feature_names = features.columns\n",
    "most_important_names = [initial_feature_names[most_important[i]] for i in range(n_pcs)]\n",
    "\n",
    "# LIST COMPREHENSION HERE AGAIN\n",
    "dic = {'PC{}'.format(i): most_important_names[i] for i in range(n_pcs)}\n",
    "\n",
    "# build the dataframe\n",
    "df = pd.DataFrame(dic.items())\n",
    "df"
   ]
  },
  {
   "cell_type": "code",
   "execution_count": null,
   "metadata": {},
   "outputs": [],
   "source": [
    "### Plotting the scree plot"
   ]
  },
  {
   "cell_type": "code",
   "execution_count": 13,
   "metadata": {},
   "outputs": [
    {
     "data": {
      "image/png": "[encoded data removed]",
      "text/plain": [
       "<Figure size 432x288 with 1 Axes>"
      ]
     },
     "metadata": {
      "needs_background": "light"
     },
     "output_type": "display_data"
    }
   ],
   "source": [
    "PC_values = np.arange(pca.n_components_) + 1\n",
    "plt.plot(PC_values, pca.explained_variance_ratio_, 'bo-', linewidth=2)\n",
    "plt.title('Scree Plot')\n",
    "plt.xlabel('Principal Component')\n",
    "plt.ylabel('Proportion of Variance Explained')\n",
    "plt.show()"
   ]
  },
  {
   "cell_type": "code",
   "execution_count": null,
   "metadata": {},
   "outputs": [],
   "source": [
    "##### using pca library, and comprehending most impactful and least impactful genes amongst the 50 principal components #####"
   ]
  },
  {
   "cell_type": "code",
   "execution_count": 45,
   "metadata": {
    "scrolled": false
   },
   "outputs": [],
   "source": [
    "#from pca import pca\n",
    "#model = pca(n_components = 50)\n",
    "#out = model.fit_transform(features)\n",
    "\n",
    "#pd.set_option(\"display.max_rows\", None, \"display.max_columns\", None)\n",
    "#print(out['topfeat'])"
   ]
  },
  {
   "cell_type": "code",
   "execution_count": null,
   "metadata": {},
   "outputs": [],
   "source": [
    "##Key takeaways from PCA:"
   ]
  },
  {
   "cell_type": "code",
   "execution_count": null,
   "metadata": {},
   "outputs": [],
   "source": []
  },
  {
   "cell_type": "markdown",
   "metadata": {},
   "source": [
    "# Prediction of target variable using Machine Learning"
   ]
  },
  {
   "cell_type": "code",
   "execution_count": null,
   "metadata": {},
   "outputs": [],
   "source": []
  },
  {
   "cell_type": "code",
   "execution_count": null,
   "metadata": {},
   "outputs": [],
   "source": []
  },
  {
   "cell_type": "code",
   "execution_count": null,
   "metadata": {},
   "outputs": [],
   "source": [
    "## Model 1 : Logistic Regression, 70-30 train test split, L2 penalty."
   ]
  },
  {
   "cell_type": "code",
   "execution_count": 48,
   "metadata": {},
   "outputs": [
    {
     "name": "stdout",
     "output_type": "stream",
     "text": [
      "Accuracy of logistic regression classifier on test set: 0.95\n"
     ]
    }
   ],
   "source": [
    "from sklearn.model_selection import train_test_split\n",
    "X_train, X_test, y_train, y_test = train_test_split(x_df, y_df, test_size=0.33, random_state=1)\n",
    "from sklearn.linear_model import LogisticRegression\n",
    "Classifier = LogisticRegression(multi_class='multinomial', penalty='l2', solver = 'newton-cg' )\n",
    "Model = Classifier.fit(X_train, y_train)\n",
    "y_pred_logit = Model.predict(X_test)\n",
    "print('Accuracy of logistic regression classifier on test set: {:.2f}'.format(Model.score(X_test, y_test)))"
   ]
  },
  {
   "cell_type": "code",
   "execution_count": 49,
   "metadata": {},
   "outputs": [],
   "source": [
    "### Printing the classification report ###"
   ]
  },
  {
   "cell_type": "code",
   "execution_count": 50,
   "metadata": {},
   "outputs": [
    {
     "name": "stdout",
     "output_type": "stream",
     "text": [
      "                  precision    recall  f1-score   support\n",
      "\n",
      "             AML       1.00      0.91      0.95        11\n",
      "     Bone_Marrow       1.00      1.00      1.00         1\n",
      "Bone_Marrow_CD34       1.00      1.00      1.00         2\n",
      "              PB       1.00      1.00      1.00         4\n",
      "       PBSC_CD34       0.80      1.00      0.89         4\n",
      "\n",
      "        accuracy                           0.95        22\n",
      "       macro avg       0.96      0.98      0.97        22\n",
      "    weighted avg       0.96      0.95      0.96        22\n",
      "\n"
     ]
    }
   ],
   "source": [
    "from sklearn.metrics import classification_report\n",
    "print(classification_report(y_test, y_pred_logit))"
   ]
  },
  {
   "cell_type": "code",
   "execution_count": 51,
   "metadata": {},
   "outputs": [],
   "source": [
    "### Printing the Confusion Matrix ###\n"
   ]
  },
  {
   "cell_type": "code",
   "execution_count": 52,
   "metadata": {
    "scrolled": false
   },
   "outputs": [
    {
     "name": "stdout",
     "output_type": "stream",
     "text": [
      "[[10  0  0  0  1]\n",
      " [ 0  1  0  0  0]\n",
      " [ 0  0  2  0  0]\n",
      " [ 0  0  0  4  0]\n",
      " [ 0  0  0  0  4]]\n"
     ]
    },
    {
     "data": {
      "text/plain": [
       "0.9545454545454546"
      ]
     },
     "execution_count": 52,
     "metadata": {},
     "output_type": "execute_result"
    }
   ],
   "source": [
    "\n",
    "from sklearn.metrics import confusion_matrix, accuracy_score\n",
    "cm = confusion_matrix(y_test, y_pred_logit)\n",
    "print(cm)\n",
    "accuracy_score(y_test,y_pred_logit)"
   ]
  },
  {
   "cell_type": "code",
   "execution_count": null,
   "metadata": {},
   "outputs": [],
   "source": [
    "#### Performance summary of Logistic Regression ####"
   ]
  },
  {
   "cell_type": "code",
   "execution_count": 54,
   "metadata": {},
   "outputs": [
    {
     "name": "stdout",
     "output_type": "stream",
     "text": [
      "Accuracy of logistic regression classifier on test set: 0.95\n",
      "\n",
      "************\n",
      "************\n",
      "\n",
      "CONFUSION MATRIX\n",
      "\n",
      "[[10  0  0  0  1]\n",
      " [ 0  1  0  0  0]\n",
      " [ 0  0  2  0  0]\n",
      " [ 0  0  0  4  0]\n",
      " [ 0  0  0  0  4]]\n",
      "\n",
      "************\n",
      "************\n",
      "\n",
      "CLASSIFICATION REPORT\n",
      "\n",
      "                  precision    recall  f1-score   support\n",
      "\n",
      "             AML       1.00      0.91      0.95        11\n",
      "     Bone_Marrow       1.00      1.00      1.00         1\n",
      "Bone_Marrow_CD34       1.00      1.00      1.00         2\n",
      "              PB       1.00      1.00      1.00         4\n",
      "       PBSC_CD34       0.80      1.00      0.89         4\n",
      "\n",
      "        accuracy                           0.95        22\n",
      "       macro avg       0.96      0.98      0.97        22\n",
      "    weighted avg       0.96      0.95      0.96        22\n",
      "\n"
     ]
    }
   ],
   "source": [
    "print('Accuracy of logistic regression classifier on test set: {:.2f}'.format(Model.score(X_test, y_test)))\n",
    "print('\\n************' * 2)\n",
    "print('\\nCONFUSION MATRIX\\n')\n",
    "print(confusion_matrix(y_test, y_pred_logit))\n",
    "\n",
    "print('\\n************' * 2)\n",
    "print('\\nCLASSIFICATION REPORT\\n')\n",
    "print(classification_report(y_test, y_pred_logit))"
   ]
  },
  {
   "cell_type": "code",
   "execution_count": null,
   "metadata": {},
   "outputs": [],
   "source": [
    "## Logistic Regression using K fold cross validation ##"
   ]
  },
  {
   "cell_type": "code",
   "execution_count": 55,
   "metadata": {},
   "outputs": [
    {
     "name": "stdout",
     "output_type": "stream",
     "text": [
      "Accuracy of LR with K fold cross validation is : 0.969 (0.062)\n"
     ]
    }
   ],
   "source": [
    "from numpy import mean\n",
    "from numpy import std\n",
    "from sklearn.model_selection import KFold\n",
    "from sklearn.model_selection import cross_val_score\n",
    "cv = KFold(n_splits=10, shuffle=True, random_state=1)\n",
    "model_with_cv = LogisticRegression(multi_class='multinomial', penalty='l2', solver = 'lbfgs' )\n",
    "scores = cross_val_score(model_with_cv, x_df, y_df, scoring='accuracy', cv=cv, n_jobs=-1)\n",
    "print('Accuracy of LR with K fold cross validation is : %.3f (%.3f)' % (mean(scores), std(scores)))\n",
    "   "
   ]
  },
  {
   "cell_type": "code",
   "execution_count": null,
   "metadata": {},
   "outputs": [],
   "source": [
    "### Logistic Regression using repeated K fold cross validation ###\n"
   ]
  },
  {
   "cell_type": "code",
   "execution_count": 56,
   "metadata": {},
   "outputs": [
    {
     "name": "stdout",
     "output_type": "stream",
     "text": [
      "Accuracy of LR using repeated k fold cross validation is : 0.973 (0.060)\n"
     ]
    }
   ],
   "source": [
    "from sklearn.model_selection import RepeatedKFold\n",
    "repeated_cv = RepeatedKFold(n_splits=10, n_repeats=3, random_state=1)\n",
    "model_with_repeated_cv = LogisticRegression(multi_class='ovr', penalty='l2', solver = 'lbfgs' )\n",
    "scores = cross_val_score(model_with_cv, x_df, y_df, scoring='accuracy', cv=repeated_cv, n_jobs=-1)\n",
    "print('Accuracy of LR using repeated k fold cross validation is : %.3f (%.3f)' % (mean(scores), std(scores)))"
   ]
  },
  {
   "cell_type": "code",
   "execution_count": null,
   "metadata": {},
   "outputs": [],
   "source": []
  },
  {
   "cell_type": "code",
   "execution_count": null,
   "metadata": {},
   "outputs": [],
   "source": [
    "#### Model 2: Naive Bayes Classifier"
   ]
  },
  {
   "cell_type": "code",
   "execution_count": 57,
   "metadata": {},
   "outputs": [
    {
     "name": "stdout",
     "output_type": "stream",
     "text": [
      "Accuracy of Naive Bayes classifier on test set: 0.82\n",
      "\n",
      "************\n",
      "************\n",
      "\n",
      "CONFUSION MATRIX\n",
      "\n",
      "[[10  0  0  1  0]\n",
      " [ 0  1  0  0  0]\n",
      " [ 0  0  2  0  0]\n",
      " [ 0  0  0  4  0]\n",
      " [ 3  0  0  0  1]]\n",
      "\n",
      "************\n",
      "************\n",
      "\n",
      "CLASSIFICATION REPORT\n",
      "\n",
      "                  precision    recall  f1-score   support\n",
      "\n",
      "             AML       0.77      0.91      0.83        11\n",
      "     Bone_Marrow       1.00      1.00      1.00         1\n",
      "Bone_Marrow_CD34       1.00      1.00      1.00         2\n",
      "              PB       0.80      1.00      0.89         4\n",
      "       PBSC_CD34       1.00      0.25      0.40         4\n",
      "\n",
      "        accuracy                           0.82        22\n",
      "       macro avg       0.91      0.83      0.82        22\n",
      "    weighted avg       0.85      0.82      0.79        22\n",
      "\n"
     ]
    }
   ],
   "source": [
    "from sklearn.naive_bayes import GaussianNB\n",
    "classifier = GaussianNB()\n",
    "classifier.fit(X_train, y_train)\n",
    "\n",
    "# Predicting the Test set results\n",
    "y_pred_NB = classifier.predict(X_test)\n",
    "\n",
    "# Making the Confusion Matrix\n",
    "from sklearn.metrics import confusion_matrix, accuracy_score\n",
    "print('Accuracy of Naive Bayes classifier on test set: {:.2f}'.format(classifier.score(X_test, y_test)))\n",
    "print('\\n************' * 2)\n",
    "print('\\nCONFUSION MATRIX\\n')\n",
    "print(confusion_matrix(y_test, y_pred_NB))\n",
    "\n",
    "print('\\n************' * 2)\n",
    "print('\\nCLASSIFICATION REPORT\\n')\n",
    "print(classification_report(y_test, y_pred_NB))"
   ]
  },
  {
   "cell_type": "code",
   "execution_count": null,
   "metadata": {},
   "outputs": [],
   "source": []
  },
  {
   "cell_type": "code",
   "execution_count": null,
   "metadata": {},
   "outputs": [],
   "source": [
    "#### Model 3 : Support Vector Machines ####"
   ]
  },
  {
   "cell_type": "code",
   "execution_count": 59,
   "metadata": {},
   "outputs": [
    {
     "name": "stdout",
     "output_type": "stream",
     "text": [
      "Accuracy of logistic regression classifier on test set: 0.95\n",
      "\n",
      "************\n",
      "************\n",
      "\n",
      "CONFUSION MATRIX\n",
      "\n",
      "[[10  0  0  0  1]\n",
      " [ 0  1  0  0  0]\n",
      " [ 0  0  2  0  0]\n",
      " [ 0  0  0  4  0]\n",
      " [ 0  0  0  0  4]]\n",
      "\n",
      "************\n",
      "************\n",
      "\n",
      "CLASSIFICATION REPORT\n",
      "\n",
      "                  precision    recall  f1-score   support\n",
      "\n",
      "             AML       1.00      0.91      0.95        11\n",
      "     Bone_Marrow       1.00      1.00      1.00         1\n",
      "Bone_Marrow_CD34       1.00      1.00      1.00         2\n",
      "              PB       1.00      1.00      1.00         4\n",
      "       PBSC_CD34       0.80      1.00      0.89         4\n",
      "\n",
      "        accuracy                           0.95        22\n",
      "       macro avg       0.96      0.98      0.97        22\n",
      "    weighted avg       0.96      0.95      0.96        22\n",
      "\n"
     ]
    }
   ],
   "source": [
    "from sklearn import svm\n",
    "svc = svm.SVC\n",
    "sigmoid = svc(kernel='sigmoid', C = 1,degree = 2, gamma = 'scale', decision_function_shape='ovo').fit(X_train, y_train)  #### Sigmoid as kernel\n",
    "y_pred_rbf = rbf.predict(X_test)\n",
    "print('Accuracy of SVM classifier on test set: {:.2f}'.format(sigmoid.score(X_test, y_test)))\n",
    "print('\\n************' * 2)\n",
    "print('\\nCONFUSION MATRIX\\n')\n",
    "print(confusion_matrix(y_test, y_pred_rbf))\n",
    "\n",
    "print('\\n************' * 2)\n",
    "print('\\nCLASSIFICATION REPORT\\n')\n",
    "print(classification_report(y_test, y_pred_rbf))\n"
   ]
  },
  {
   "cell_type": "code",
   "execution_count": null,
   "metadata": {},
   "outputs": [],
   "source": [
    "#### SVM using Radial Basis Function and K fold cross validation #####"
   ]
  },
  {
   "cell_type": "code",
   "execution_count": 58,
   "metadata": {},
   "outputs": [
    {
     "name": "stdout",
     "output_type": "stream",
     "text": [
      "Accuracy of SVM Classifier with radial basis function as kernel and cross validayion is : 0.921 (0.079)\n"
     ]
    }
   ],
   "source": [
    "cv = KFold(n_splits=10, shuffle=True, random_state=1)\n",
    "SVM_with_cv = svc(kernel='rbf', C = 1,degree = 3, gamma = 'scale', decision_function_shape='ovo').fit(X_train, y_train)\n",
    "scores = cross_val_score(SVM_with_cv, x_df, y_df, scoring='accuracy', cv=cv, n_jobs=-1)\n",
    "print('Accuracy of SVM Classifier with radial basis function as kernel and cross validayion is : %.3f (%.3f)' % (mean(scores), std(scores)))"
   ]
  },
  {
   "cell_type": "code",
   "execution_count": null,
   "metadata": {},
   "outputs": [],
   "source": []
  },
  {
   "cell_type": "code",
   "execution_count": null,
   "metadata": {},
   "outputs": [],
   "source": [
    "#### Recursive feature elimination and ensemble methods #####"
   ]
  },
  {
   "cell_type": "code",
   "execution_count": 61,
   "metadata": {},
   "outputs": [
    {
     "name": "stdout",
     "output_type": "stream",
     "text": [
      "Accuracy of XGBoost with RFE on test set: 0.91\n",
      "\n",
      "************\n",
      "************\n",
      "\n",
      "CONFUSION MATRIX\n",
      "\n",
      "[[11  0  0  0  0]\n",
      " [ 0  1  0  0  0]\n",
      " [ 0  0  2  0  0]\n",
      " [ 1  0  0  3  0]\n",
      " [ 1  0  0  0  3]]\n",
      "\n",
      "************\n",
      "\n",
      "************\n",
      "\n",
      "\n",
      "CLASSIFICATION REPORT\n",
      "\n",
      "                  precision    recall  f1-score   support\n",
      "\n",
      "             AML       0.85      1.00      0.92        11\n",
      "     Bone_Marrow       1.00      1.00      1.00         1\n",
      "Bone_Marrow_CD34       1.00      1.00      1.00         2\n",
      "              PB       1.00      0.75      0.86         4\n",
      "       PBSC_CD34       1.00      0.75      0.86         4\n",
      "\n",
      "        accuracy                           0.91        22\n",
      "       macro avg       0.97      0.90      0.93        22\n",
      "    weighted avg       0.92      0.91      0.91        22\n",
      "\n",
      "\n",
      "************\n",
      "\n",
      "************\n",
      "\n",
      "************\n",
      "\n",
      "************\n",
      "\n",
      "Accuracy of Random Forest with RFE on test set: 0.86\n",
      "\n",
      "************\n",
      "************\n",
      "\n",
      "CONFUSION MATRIX\n",
      "\n",
      "[[10  1  0  0  0]\n",
      " [ 0  1  0  0  0]\n",
      " [ 0  0  2  0  0]\n",
      " [ 0  0  0  4  0]\n",
      " [ 2  0  0  0  2]]\n",
      "\n",
      "************\n",
      "\n",
      "************\n",
      "\n",
      "\n",
      "CLASSIFICATION REPORT\n",
      "\n",
      "                  precision    recall  f1-score   support\n",
      "\n",
      "             AML       0.83      0.91      0.87        11\n",
      "     Bone_Marrow       0.50      1.00      0.67         1\n",
      "Bone_Marrow_CD34       1.00      1.00      1.00         2\n",
      "              PB       1.00      1.00      1.00         4\n",
      "       PBSC_CD34       1.00      0.50      0.67         4\n",
      "\n",
      "        accuracy                           0.86        22\n",
      "       macro avg       0.87      0.88      0.84        22\n",
      "    weighted avg       0.89      0.86      0.86        22\n",
      "\n",
      "\n",
      "************\n",
      "\n",
      "************\n",
      "\n",
      "************\n",
      "\n",
      "************\n",
      "\n"
     ]
    }
   ],
   "source": [
    "from sklearn.feature_selection import RFE\n",
    "from sklearn.ensemble import RandomForestClassifier\n",
    "from sklearn.ensemble import GradientBoostingClassifier\n",
    "rfe_XG = RFE(estimator=GradientBoostingClassifier(), n_features_to_select=50)\n",
    "rfe_randomforest = RFE(estimator=RandomForestClassifier(), n_features_to_select=50)\n",
    "\n",
    "#cv = RepeatedKFold(n_splits=10, n_repeats=3, random_state=1)\n",
    "model1 = rfe_XG.fit(X_train, y_train)\n",
    "model2 = rfe_randomforest.fit(X_train, y_train)\n",
    "y_pred_rfe_XG= model1.predict(X_test)\n",
    "y_pred_rfe_randomforest= model2.predict(X_test)\n",
    "print('Accuracy of XGBoost with RFE on test set: {:.2f}'.format(model1.score(X_test, y_test)))\n",
    "print('\\n************' * 2)\n",
    "print('\\nCONFUSION MATRIX\\n')\n",
    "print(confusion_matrix(y_test, y_pred_rfe_XG))\n",
    "\n",
    "print('\\n************\\n' * 2)\n",
    "print('\\nCLASSIFICATION REPORT\\n')\n",
    "print(classification_report(y_test, y_pred_rfe_XG))\n",
    "print('\\n************\\n' * 4)\n",
    "\n",
    "print('Accuracy of Random Forest with RFE on test set: {:.2f}'.format(model2.score(X_test, y_test)))\n",
    "print('\\n************' * 2)\n",
    "print('\\nCONFUSION MATRIX\\n')\n",
    "print(confusion_matrix(y_test, y_pred_rfe_randomforest))\n",
    "\n",
    "print('\\n************\\n' * 2)\n",
    "print('\\nCLASSIFICATION REPORT\\n')\n",
    "print(classification_report(y_test, y_pred_rfe_randomforest))\n",
    "print('\\n************\\n' * 4)\n",
    "\n",
    "\n"
   ]
  },
  {
   "cell_type": "code",
   "execution_count": null,
   "metadata": {},
   "outputs": [],
   "source": []
  }
 ],
 "metadata": {
  "kernelspec": {
   "display_name": "Python 3",
   "language": "python",
   "name": "python3"
  },
  "language_info": {
   "codemirror_mode": {
    "name": "ipython",
    "version": 3
   },
   "file_extension": ".py",
   "mimetype": "text/x-python",
   "name": "python",
   "nbconvert_exporter": "python",
   "pygments_lexer": "ipython3",
   "version": "3.8.5"
  }
 },
 "nbformat": 4,
 "nbformat_minor": 4
}
